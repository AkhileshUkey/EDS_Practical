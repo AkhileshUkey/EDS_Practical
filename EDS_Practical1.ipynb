{
  "nbformat": 4,
  "nbformat_minor": 0,
  "metadata": {
    "colab": {
      "provenance": []
    },
    "kernelspec": {
      "name": "python3",
      "display_name": "Python 3"
    },
    "language_info": {
      "name": "python"
    }
  },
  "cells": [
    {
      "cell_type": "code",
      "execution_count": null,
      "metadata": {
        "id": "vRRQ7urTvZOh"
      },
      "outputs": [],
      "source": [
        "f1=open(“Stud.csv”,”r”)\n",
        "f2=open(“results.csv”,”r”)\n",
        "f3=open(“DATA.csv”,”w”)\n",
        "edata=f1.read()\n",
        "results=f2.read()\n",
        "elist=edata.splitlines()\n",
        "slist=results.splitlines()\n",
        "for line1 in elist:\n",
        "word1=line1.split(“,”)\n",
        "for line2 in slist:\n",
        "word2=line2.split(“,”)\n",
        "        If (word1[0]==word2[0]):\n",
        "line1=line1+”,”+word2[1]+”,”+word2[2]+”\\n”\n",
        "f3.write(line1)\n",
        "f1.close()\n",
        "f2.close()\n",
        "f3.close()\n",
        "number=[]\n",
        "name=[]\n",
        "add=[]\n",
        "marks=[]\n",
        "des=[]\n",
        "data=[]\n",
        "for line in data:\n",
        "word=line.split(“,”)\n",
        "number.append(int(word[0]))\n",
        "name.append(word[1])\n",
        "des.append(word[2])\n",
        "add.append(word[3])\n",
        "marks.append(int(word[4]))\n",
        "print(“max marks :  “,name[marks.index(max(marks))],max(marks))\n",
        "print(“min marks :  “,name[marks.index(min(marks))],min(marks))\n",
        "print(“avg marks : “,((sum(marks))/len(number)))\n",
        "print(“total marks :”,sum(marks))\n",
        "print(“percentage mark : ”,(((sum(marks)/600)*100)))\n"
      ]
    }
  ]
}