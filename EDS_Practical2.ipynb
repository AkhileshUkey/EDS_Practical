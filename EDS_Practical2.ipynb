{
  "nbformat": 4,
  "nbformat_minor": 0,
  "metadata": {
    "colab": {
      "provenance": []
    },
    "kernelspec": {
      "name": "python3",
      "display_name": "Python 3"
    },
    "language_info": {
      "name": "python"
    }
  },
  "cells": [
    {
      "cell_type": "code",
      "execution_count": null,
      "metadata": {
        "id": "xi3uw3gQwZHp"
      },
      "outputs": [],
      "source": [
        "F=open(“sales.csv”,”r”)\n",
        "Content=f.read()\n",
        "Lines=content.splitlines()\n",
        "P_details=[]\n",
        "S_details={}\n",
        "G_details={}\n",
        "Ctemp=[]\n",
        "Pfc={}\n",
        "Sfc={}\n",
        "Cfc={}\n",
        "Male=0\n",
        "Female=0\n",
        "For l in lines:\n",
        " Words=l.split(“,”)\n",
        " P_details.append(words[1])\n",
        " Ctemp.append(words[3])\n",
        " S_details[words[0]]=words[2]\n",
        " G_details[words[3]]=words[4]\n",
        "For p in p_details:\n",
        " If p not in pfc:\n",
        " Pfc[p]=1\n",
        "  Else:\n",
        " Pfc[p]=pfc[p]+1\n",
        "#print(pfc)\n",
        "Max=0\n",
        "Pn=””\n",
        "For k,v in pfc.items():\n",
        " If(max<v):\n",
        " Max=v\n",
        " Pn=k\n",
        "Print(“Most popular product is: “,pn)\n",
        "For c in ctemp:\n",
        " If c not in cfc:\n",
        " Cfc[c]=1\n",
        " Else:\n",
        " Cfc[c]=cfc[c]+1\n",
        "#print(cfc)\n",
        "Max=0\n",
        "Cd=””\n",
        "For a,b in cfc.items():\n",
        " If(max<b):\n",
        " Max=b\n",
        " Cd=a\n",
        "Print(“Customer who buys most of the products is: “,cd)\n",
        "For k,v in g_details.items():\n",
        " If(v==”Female”):\n",
        " Female=female+1\n",
        " Else:\n",
        " Male=male+1\n",
        "Print(“Number of customers who are female are: “,female)"
      ]
    }
  ]
}