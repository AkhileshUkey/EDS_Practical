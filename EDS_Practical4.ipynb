{
  "nbformat": 4,
  "nbformat_minor": 0,
  "metadata": {
    "colab": {
      "provenance": []
    },
    "kernelspec": {
      "name": "python3",
      "display_name": "Python 3"
    },
    "language_info": {
      "name": "python"
    }
  },
  "cells": [
    {
      "cell_type": "code",
      "execution_count": 3,
      "metadata": {
        "colab": {
          "base_uri": "https://localhost:8080/"
        },
        "id": "dQBq56eYyiv3",
        "outputId": "06d951d6-c469-4063-d915-a70c54aabc23"
      },
      "outputs": [
        {
          "output_type": "stream",
          "name": "stdout",
          "text": [
            "\n",
            "Maximum sales are done in the month of:  JULY\n",
            "\n",
            "The earning made in that month is:  16000000\n",
            "\n",
            "The product who sold the most is:  Wheat\n",
            "\n",
            "The city which sold the most products:  Asansole\n",
            "\n",
            "Minimum sales are done in the month:  MARCH\n",
            "\n",
            "Mean of all the sales is:  2685185.185185185\n"
          ]
        }
      ],
      "source": [
        "import pandas as pd\n",
        "df=pd.read_csv(\"grainsales.csv\",delimiter=\",\")\n",
        "#Maximum sales in Month\n",
        "month=df.groupby('Months')['Sales'].sum().idxmax()\n",
        "print(\"\\nMaximum sales are done in the month of: \",month)\n",
        "sales=df.groupby('Months')['Sales'].sum().max()\n",
        "print(\"\\nThe earning made in that month is: \",sales)\n",
        "#Product which sold the most and by whom\n",
        "max_sales=df.groupby('GrainName')['Sales'].sum().idxmax()\n",
        "print(\"\\nThe product who sold the most is: \",max_sales)\n",
        "#City which sold the most products\n",
        "city=df.groupby('City')['Sales'].sum().idxmax()\n",
        "print(\"\\nThe city which sold the most products: \",city)\n",
        "#Minimum sales done in the month\n",
        "min_sales=df.groupby('Months')['Sales'].sum().idxmin()\n",
        "print(\"\\nMinimum sales are done in the month: \",min_sales)\n",
        "#Mean of all the sales\n",
        "mean=df['Sales'].mean()\n",
        "print(\"\\nMean of all the sales is: \",mean)"
      ]
    }
  ]
}